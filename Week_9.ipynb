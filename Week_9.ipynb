{
  "nbformat": 4,
  "nbformat_minor": 0,
  "metadata": {
    "colab": {
      "name": "Week-9.ipynb",
      "provenance": [],
      "authorship_tag": "ABX9TyPBd5O2ID+ZTadtsPWt2KEo",
      "include_colab_link": true
    },
    "kernelspec": {
      "name": "python3",
      "display_name": "Python 3"
    }
  },
  "cells": [
    {
      "cell_type": "markdown",
      "metadata": {
        "id": "view-in-github",
        "colab_type": "text"
      },
      "source": [
        "<a href=\"https://colab.research.google.com/github/abdullah2643/CSE234_191-15-2643_Fall-20_Python/blob/main/Week_9.ipynb\" target=\"_parent\"><img src=\"https://colab.research.google.com/assets/colab-badge.svg\" alt=\"Open In Colab\"/></a>"
      ]
    },
    {
      "cell_type": "markdown",
      "metadata": {
        "id": "nH-di9JRoMD5"
      },
      "source": [
        "**Polymorphism in Class Methods**"
      ]
    },
    {
      "cell_type": "code",
      "metadata": {
        "id": "DJ3AuJ-Mn02k"
      },
      "source": [
        "class Cat:\r\n",
        "    def __init__(self, name, age):\r\n",
        "        self.name = name\r\n",
        "        self.age = age\r\n",
        "\r\n",
        "    def info(self):\r\n",
        "        print(f\"I am a cat. My name is {self.name}. I am {self.age} years old.\")\r\n",
        "\r\n",
        "    def make_sound(self):\r\n",
        "        print(\"Mukit\")"
      ],
      "execution_count": 5,
      "outputs": []
    },
    {
      "cell_type": "code",
      "metadata": {
        "id": "TxpiDH0SoD9c"
      },
      "source": [
        "class Mouse:\r\n",
        "    def __init__(self, name, age):\r\n",
        "        self.name = name\r\n",
        "        self.age = age\r\n",
        "\r\n",
        "    def info(self):\r\n",
        "        print(f\"I am a Mouse. My name is {self.name}. I am {self.age} years old.\")\r\n",
        "\r\n",
        "    def make_sound(self):\r\n",
        "        print(\"Mukit\")"
      ],
      "execution_count": 6,
      "outputs": []
    },
    {
      "cell_type": "markdown",
      "metadata": {
        "id": "KH1kYSOVoSJ_"
      },
      "source": [
        "**Create object**"
      ]
    },
    {
      "cell_type": "code",
      "metadata": {
        "id": "gB7NkJORoJ2L"
      },
      "source": [
        "cat1 = Cat(\"tom\", 2.5)\r\n",
        "mouse1 = Mouse(\"jerry\", 4)"
      ],
      "execution_count": 7,
      "outputs": []
    },
    {
      "cell_type": "code",
      "metadata": {
        "colab": {
          "base_uri": "https://localhost:8080/"
        },
        "id": "6tSHWBSwoiBl",
        "outputId": "7e8edd00-a61b-46c0-9b29-fc5b9ec0639b"
      },
      "source": [
        "for animal in (cat1, mouse1):\r\n",
        "    animal.make_sound()\r\n",
        "    animal.info()\r\n",
        "    animal.make_sound()"
      ],
      "execution_count": 8,
      "outputs": [
        {
          "output_type": "stream",
          "text": [
            "Mukit\n",
            "I am a cat. My name is tom. I am 2.5 years old.\n",
            "Mukit\n",
            "Mukit\n",
            "I am a Mouse. My name is jerry. I am 4 years old.\n",
            "Mukit\n"
          ],
          "name": "stdout"
        }
      ]
    },
    {
      "cell_type": "markdown",
      "metadata": {
        "id": "LLelJROVoqRY"
      },
      "source": [
        "**Error and exception handling**"
      ]
    },
    {
      "cell_type": "code",
      "metadata": {
        "id": "RPcREaI5oijs"
      },
      "source": [
        "def add(n1, n2):\r\n",
        "  print(n1+n2)"
      ],
      "execution_count": 9,
      "outputs": []
    },
    {
      "cell_type": "code",
      "metadata": {
        "colab": {
          "base_uri": "https://localhost:8080/"
        },
        "id": "4B6cWzMnotCf",
        "outputId": "fd2d6a76-158b-4e92-9a91-47a514e237a4"
      },
      "source": [
        "add(20,20)"
      ],
      "execution_count": 10,
      "outputs": [
        {
          "output_type": "stream",
          "text": [
            "40\n"
          ],
          "name": "stdout"
        }
      ]
    },
    {
      "cell_type": "code",
      "metadata": {
        "colab": {
          "base_uri": "https://localhost:8080/",
          "height": 296
        },
        "id": "vfbZhZDlouVJ",
        "outputId": "9018a292-8e86-4c90-db4d-77c47510b627"
      },
      "source": [
        "number1=10\r\n",
        "\r\n",
        "number2=input(\"please provide a number: \")\r\n",
        "\r\n",
        "add(number1,number2)\r\n",
        "print(\"add done!\")"
      ],
      "execution_count": 11,
      "outputs": [
        {
          "output_type": "stream",
          "text": [
            "please provide a number: 4\n"
          ],
          "name": "stdout"
        },
        {
          "output_type": "error",
          "ename": "TypeError",
          "evalue": "ignored",
          "traceback": [
            "\u001b[0;31m---------------------------------------------------------------------------\u001b[0m",
            "\u001b[0;31mTypeError\u001b[0m                                 Traceback (most recent call last)",
            "\u001b[0;32m<ipython-input-11-c9c1cd721e8a>\u001b[0m in \u001b[0;36m<module>\u001b[0;34m()\u001b[0m\n\u001b[1;32m      3\u001b[0m \u001b[0mnumber2\u001b[0m\u001b[0;34m=\u001b[0m\u001b[0minput\u001b[0m\u001b[0;34m(\u001b[0m\u001b[0;34m\"please provide a number: \"\u001b[0m\u001b[0;34m)\u001b[0m\u001b[0;34m\u001b[0m\u001b[0;34m\u001b[0m\u001b[0m\n\u001b[1;32m      4\u001b[0m \u001b[0;34m\u001b[0m\u001b[0m\n\u001b[0;32m----> 5\u001b[0;31m \u001b[0madd\u001b[0m\u001b[0;34m(\u001b[0m\u001b[0mnumber1\u001b[0m\u001b[0;34m,\u001b[0m\u001b[0mnumber2\u001b[0m\u001b[0;34m)\u001b[0m\u001b[0;34m\u001b[0m\u001b[0;34m\u001b[0m\u001b[0m\n\u001b[0m\u001b[1;32m      6\u001b[0m \u001b[0mprint\u001b[0m\u001b[0;34m(\u001b[0m\u001b[0;34m\"add done!\"\u001b[0m\u001b[0;34m)\u001b[0m\u001b[0;34m\u001b[0m\u001b[0;34m\u001b[0m\u001b[0m\n",
            "\u001b[0;32m<ipython-input-9-f78c6c2e152b>\u001b[0m in \u001b[0;36madd\u001b[0;34m(n1, n2)\u001b[0m\n\u001b[1;32m      1\u001b[0m \u001b[0;32mdef\u001b[0m \u001b[0madd\u001b[0m\u001b[0;34m(\u001b[0m\u001b[0mn1\u001b[0m\u001b[0;34m,\u001b[0m \u001b[0mn2\u001b[0m\u001b[0;34m)\u001b[0m\u001b[0;34m:\u001b[0m\u001b[0;34m\u001b[0m\u001b[0;34m\u001b[0m\u001b[0m\n\u001b[0;32m----> 2\u001b[0;31m   \u001b[0mprint\u001b[0m\u001b[0;34m(\u001b[0m\u001b[0mn1\u001b[0m\u001b[0;34m+\u001b[0m\u001b[0mn2\u001b[0m\u001b[0;34m)\u001b[0m\u001b[0;34m\u001b[0m\u001b[0;34m\u001b[0m\u001b[0m\n\u001b[0m",
            "\u001b[0;31mTypeError\u001b[0m: unsupported operand type(s) for +: 'int' and 'str'"
          ]
        }
      ]
    },
    {
      "cell_type": "markdown",
      "metadata": {
        "id": "XydaQlAvo0Kn"
      },
      "source": [
        "**Exception handling**"
      ]
    },
    {
      "cell_type": "code",
      "metadata": {
        "colab": {
          "base_uri": "https://localhost:8080/"
        },
        "id": "2GjlxUl3owH_",
        "outputId": "0b95e1ee-b8bb-4472-9a95-e96ff73b4c90"
      },
      "source": [
        "try:\r\n",
        "  result = 10+'10'\r\n",
        "except:\r\n",
        "  print(f'Hey! its looks like you are not adding correctly!')"
      ],
      "execution_count": 12,
      "outputs": [
        {
          "output_type": "stream",
          "text": [
            "Hey! its looks like you are not adding correctly!\n"
          ],
          "name": "stdout"
        }
      ]
    },
    {
      "cell_type": "code",
      "metadata": {
        "colab": {
          "base_uri": "https://localhost:8080/"
        },
        "id": "ffIYYoQzo45c",
        "outputId": "bbe0213b-ba75-4425-b40f-acb2113252a9"
      },
      "source": [
        "try:\r\n",
        "  result = 10+30\r\n",
        "except:\r\n",
        "  print(f'Hey! its looks like you are not adding correctly!')\r\n",
        "else:\r\n",
        "  print(f'add went well')\r\n",
        "  print(f'sum is: {result}')"
      ],
      "execution_count": 13,
      "outputs": [
        {
          "output_type": "stream",
          "text": [
            "add went well\n",
            "sum is: 40\n"
          ],
          "name": "stdout"
        }
      ]
    },
    {
      "cell_type": "code",
      "metadata": {
        "id": "tXIQcLzBo6kp"
      },
      "source": [
        ""
      ],
      "execution_count": null,
      "outputs": []
    }
  ]
}