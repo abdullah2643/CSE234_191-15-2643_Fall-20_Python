{
  "nbformat": 4,
  "nbformat_minor": 0,
  "metadata": {
    "colab": {
      "name": "Week-01.ipynb",
      "provenance": [],
      "authorship_tag": "ABX9TyMcOP5lR6YIb73oGAvYtZiU",
      "include_colab_link": true
    },
    "kernelspec": {
      "name": "python3",
      "display_name": "Python 3"
    }
  },
  "cells": [
    {
      "cell_type": "markdown",
      "metadata": {
        "id": "view-in-github",
        "colab_type": "text"
      },
      "source": [
        "<a href=\"https://colab.research.google.com/github/abdullah2643/CSE234_191-15-2643_Fall-20_Python/blob/main/Week_01.ipynb\" target=\"_parent\"><img src=\"https://colab.research.google.com/assets/colab-badge.svg\" alt=\"Open In Colab\"/></a>"
      ]
    },
    {
      "cell_type": "markdown",
      "metadata": {
        "id": "hL9aWo5Rt1um"
      },
      "source": [
        "My First Python Program\n"
      ]
    },
    {
      "cell_type": "code",
      "metadata": {
        "id": "sNvh3LadsXuY",
        "outputId": "4272f802-4cee-45d8-86ac-d0130a7c508f",
        "colab": {
          "base_uri": "https://localhost:8080/",
          "height": 34
        }
      },
      "source": [
        "print(\"Hello,I am Mukit\")"
      ],
      "execution_count": 1,
      "outputs": [
        {
          "output_type": "stream",
          "text": [
            "Hello,I am Mukit\n"
          ],
          "name": "stdout"
        }
      ]
    },
    {
      "cell_type": "markdown",
      "metadata": {
        "id": "U5LxiHTwt_iZ"
      },
      "source": [
        "Variables and Assignment Statements"
      ]
    },
    {
      "cell_type": "code",
      "metadata": {
        "id": "dR2F29cHtl6n",
        "outputId": "c305e70e-30fa-4459-90d8-eb4083f786dd",
        "colab": {
          "base_uri": "https://localhost:8080/",
          "height": 34
        }
      },
      "source": [
        "A=5\n",
        "B=4\n",
        "print(A+B)"
      ],
      "execution_count": 2,
      "outputs": [
        {
          "output_type": "stream",
          "text": [
            "9\n"
          ],
          "name": "stdout"
        }
      ]
    },
    {
      "cell_type": "code",
      "metadata": {
        "id": "T_JDELrjuB4Y",
        "outputId": "609c9d41-db21-467f-de89-b1fc48452165",
        "colab": {
          "base_uri": "https://localhost:8080/",
          "height": 34
        }
      },
      "source": [
        "Total = A+B\n",
        "print(Total)"
      ],
      "execution_count": 3,
      "outputs": [
        {
          "output_type": "stream",
          "text": [
            "9\n"
          ],
          "name": "stdout"
        }
      ]
    },
    {
      "cell_type": "code",
      "metadata": {
        "id": "Ivu9By-8uDQ1",
        "outputId": "b78e536f-9577-431e-f4d4-17e22d2b2e59",
        "colab": {
          "base_uri": "https://localhost:8080/",
          "height": 34
        }
      },
      "source": [
        "name1=\"Abdullah All\"\n",
        "name2=\"Mukit\"\n",
        "print(name1,name2)"
      ],
      "execution_count": 4,
      "outputs": [
        {
          "output_type": "stream",
          "text": [
            "Abdullah All Mukit\n"
          ],
          "name": "stdout"
        }
      ]
    },
    {
      "cell_type": "markdown",
      "metadata": {
        "id": "2YD1ScEluNZc"
      },
      "source": [
        "Types"
      ]
    },
    {
      "cell_type": "code",
      "metadata": {
        "id": "_HAT2CEouK1o",
        "outputId": "fe46e56f-fa8c-42c0-da73-91db854f59db",
        "colab": {
          "base_uri": "https://localhost:8080/",
          "height": 34
        }
      },
      "source": [
        "A=110\n",
        "type(A)"
      ],
      "execution_count": 5,
      "outputs": [
        {
          "output_type": "execute_result",
          "data": {
            "text/plain": [
              "int"
            ]
          },
          "metadata": {
            "tags": []
          },
          "execution_count": 5
        }
      ]
    },
    {
      "cell_type": "code",
      "metadata": {
        "id": "KpOPPoBuuPO7",
        "outputId": "4af60fce-c4cc-4260-c499-bb73b3971944",
        "colab": {
          "base_uri": "https://localhost:8080/",
          "height": 34
        }
      },
      "source": [
        "type(108.58)"
      ],
      "execution_count": 6,
      "outputs": [
        {
          "output_type": "execute_result",
          "data": {
            "text/plain": [
              "float"
            ]
          },
          "metadata": {
            "tags": []
          },
          "execution_count": 6
        }
      ]
    },
    {
      "cell_type": "code",
      "metadata": {
        "id": "WHYf08qIuRsL",
        "outputId": "9f3f8ec3-e96b-4b54-96ff-d43339724361",
        "colab": {
          "base_uri": "https://localhost:8080/",
          "height": 34
        }
      },
      "source": [
        "type(name1)"
      ],
      "execution_count": 7,
      "outputs": [
        {
          "output_type": "execute_result",
          "data": {
            "text/plain": [
              "str"
            ]
          },
          "metadata": {
            "tags": []
          },
          "execution_count": 7
        }
      ]
    },
    {
      "cell_type": "markdown",
      "metadata": {
        "id": "gEpX1QVCuVFn"
      },
      "source": [
        "Arithmetic operators"
      ]
    },
    {
      "cell_type": "code",
      "metadata": {
        "id": "4sWpA-GbuTjt",
        "outputId": "4a3c7b85-39da-4673-f15a-8d10b962a782",
        "colab": {
          "base_uri": "https://localhost:8080/",
          "height": 34
        }
      },
      "source": [
        "multiplication=448*55\n",
        "print(multiplication)\n"
      ],
      "execution_count": 8,
      "outputs": [
        {
          "output_type": "stream",
          "text": [
            "24640\n"
          ],
          "name": "stdout"
        }
      ]
    },
    {
      "cell_type": "code",
      "metadata": {
        "id": "UZsaWqhmuYTw",
        "outputId": "6ef20fb7-6f85-4e7e-feaa-07e1321b34eb",
        "colab": {
          "base_uri": "https://localhost:8080/",
          "height": 34
        }
      },
      "source": [
        "add=666+55\n",
        "print(add)"
      ],
      "execution_count": 9,
      "outputs": [
        {
          "output_type": "stream",
          "text": [
            "721\n"
          ],
          "name": "stdout"
        }
      ]
    },
    {
      "cell_type": "code",
      "metadata": {
        "id": "Va8ij_qVuaB2",
        "outputId": "66428766-fc9c-4981-afaa-80c5e3e88bd8",
        "colab": {
          "base_uri": "https://localhost:8080/",
          "height": 34
        }
      },
      "source": [
        "sub=330-33\n",
        "print(sub)"
      ],
      "execution_count": 10,
      "outputs": [
        {
          "output_type": "stream",
          "text": [
            "297\n"
          ],
          "name": "stdout"
        }
      ]
    },
    {
      "cell_type": "code",
      "metadata": {
        "id": "ykY87iq7ub_S",
        "outputId": "fb5ff721-2496-43fd-e91a-0a0e0be70e46",
        "colab": {
          "base_uri": "https://localhost:8080/",
          "height": 34
        }
      },
      "source": [
        "exponentiation=3**5\n",
        "print(exponentiation)"
      ],
      "execution_count": 11,
      "outputs": [
        {
          "output_type": "stream",
          "text": [
            "243\n"
          ],
          "name": "stdout"
        }
      ]
    },
    {
      "cell_type": "code",
      "metadata": {
        "id": "b3wvSB41udKD",
        "outputId": "37e44c52-074c-4264-f196-0f96f345f40f",
        "colab": {
          "base_uri": "https://localhost:8080/",
          "height": 34
        }
      },
      "source": [
        "True_Division=5/2\n",
        "print(True_Division)"
      ],
      "execution_count": 12,
      "outputs": [
        {
          "output_type": "stream",
          "text": [
            "2.5\n"
          ],
          "name": "stdout"
        }
      ]
    },
    {
      "cell_type": "code",
      "metadata": {
        "id": "EDsVDSe2uflU",
        "outputId": "b290e731-e753-47f9-a0ad-8e2faa72b1fd",
        "colab": {
          "base_uri": "https://localhost:8080/",
          "height": 34
        }
      },
      "source": [
        "Floor_Division=8//3\n",
        "print(Floor_Division)"
      ],
      "execution_count": 13,
      "outputs": [
        {
          "output_type": "stream",
          "text": [
            "2\n"
          ],
          "name": "stdout"
        }
      ]
    },
    {
      "cell_type": "markdown",
      "metadata": {
        "id": "4ST5lpBpulH1"
      },
      "source": [
        "Relational Operators\n",
        "\n"
      ]
    },
    {
      "cell_type": "code",
      "metadata": {
        "id": "KxmO8ndMuiWa"
      },
      "source": [
        "A=22\n",
        "B=33"
      ],
      "execution_count": 14,
      "outputs": []
    },
    {
      "cell_type": "code",
      "metadata": {
        "id": "LF5rt6QNumxR",
        "outputId": "9e2c0bd5-f6e8-4d8f-c213-6ab2084c57d5",
        "colab": {
          "base_uri": "https://localhost:8080/",
          "height": 34
        }
      },
      "source": [
        "A>B"
      ],
      "execution_count": 16,
      "outputs": [
        {
          "output_type": "execute_result",
          "data": {
            "text/plain": [
              "False"
            ]
          },
          "metadata": {
            "tags": []
          },
          "execution_count": 16
        }
      ]
    },
    {
      "cell_type": "code",
      "metadata": {
        "id": "-g1TDNmcuqYN",
        "outputId": "0f80cc89-bb65-4d6c-a1c7-bdd25c1f3b20",
        "colab": {
          "base_uri": "https://localhost:8080/",
          "height": 34
        }
      },
      "source": [
        "A<B"
      ],
      "execution_count": 18,
      "outputs": [
        {
          "output_type": "execute_result",
          "data": {
            "text/plain": [
              "True"
            ]
          },
          "metadata": {
            "tags": []
          },
          "execution_count": 18
        }
      ]
    },
    {
      "cell_type": "code",
      "metadata": {
        "id": "lbMlOC2muwIN",
        "outputId": "56e83c36-3c9d-4564-da87-e1bc51517e2d",
        "colab": {
          "base_uri": "https://localhost:8080/",
          "height": 34
        }
      },
      "source": [
        "A==B"
      ],
      "execution_count": 19,
      "outputs": [
        {
          "output_type": "execute_result",
          "data": {
            "text/plain": [
              "False"
            ]
          },
          "metadata": {
            "tags": []
          },
          "execution_count": 19
        }
      ]
    },
    {
      "cell_type": "code",
      "metadata": {
        "id": "3w4KQVLJuwty",
        "outputId": "4a97cb65-6849-4a0c-983d-e997231cc32d",
        "colab": {
          "base_uri": "https://localhost:8080/",
          "height": 34
        }
      },
      "source": [
        "A!=B"
      ],
      "execution_count": 20,
      "outputs": [
        {
          "output_type": "execute_result",
          "data": {
            "text/plain": [
              "True"
            ]
          },
          "metadata": {
            "tags": []
          },
          "execution_count": 20
        }
      ]
    },
    {
      "cell_type": "markdown",
      "metadata": {
        "id": "5yALE0_vu2tm"
      },
      "source": [
        "Chaining Comparisons"
      ]
    },
    {
      "cell_type": "code",
      "metadata": {
        "id": "kwz1ac2AuzR8"
      },
      "source": [
        "A=7\n",
        "B=9"
      ],
      "execution_count": 21,
      "outputs": []
    },
    {
      "cell_type": "code",
      "metadata": {
        "id": "Np6kqUdJu4OY",
        "outputId": "36ed3999-0d68-4271-9668-3696108d23d8",
        "colab": {
          "base_uri": "https://localhost:8080/",
          "height": 34
        }
      },
      "source": [
        "3<= A <=9"
      ],
      "execution_count": 22,
      "outputs": [
        {
          "output_type": "execute_result",
          "data": {
            "text/plain": [
              "True"
            ]
          },
          "metadata": {
            "tags": []
          },
          "execution_count": 22
        }
      ]
    },
    {
      "cell_type": "code",
      "metadata": {
        "id": "gRMjTz8Eu5gQ",
        "outputId": "7f96b114-82de-4989-bfb1-b57e320772a8",
        "colab": {
          "base_uri": "https://localhost:8080/",
          "height": 34
        }
      },
      "source": [
        "10<= B <=11"
      ],
      "execution_count": 23,
      "outputs": [
        {
          "output_type": "execute_result",
          "data": {
            "text/plain": [
              "False"
            ]
          },
          "metadata": {
            "tags": []
          },
          "execution_count": 23
        }
      ]
    },
    {
      "cell_type": "markdown",
      "metadata": {
        "id": "kjzYFT9ru8cj"
      },
      "source": [
        "Print Function"
      ]
    },
    {
      "cell_type": "code",
      "metadata": {
        "id": "SP_LPKUsu6-W",
        "outputId": "c2e54fe6-e3e2-4000-945d-6f62f55f67ab",
        "colab": {
          "base_uri": "https://localhost:8080/",
          "height": 34
        }
      },
      "source": [
        "print('Hello', 'I','am', 'Mukit')"
      ],
      "execution_count": 24,
      "outputs": [
        {
          "output_type": "stream",
          "text": [
            "Hello I am Mukit\n"
          ],
          "name": "stdout"
        }
      ]
    },
    {
      "cell_type": "code",
      "metadata": {
        "id": "ao9HINg8u_cE"
      },
      "source": [
        "\n",
        "triple_quoted_string = \"\"\"This is a triple-quoted\n",
        "string that spans two lines\"\"\""
      ],
      "execution_count": 25,
      "outputs": []
    },
    {
      "cell_type": "code",
      "metadata": {
        "id": "u7DjXpunvMwH",
        "outputId": "bc21ff06-2c6c-43f4-ff5e-2a66b32cc27d",
        "colab": {
          "base_uri": "https://localhost:8080/",
          "height": 50
        }
      },
      "source": [
        "print(triple_quoted_string)"
      ],
      "execution_count": 26,
      "outputs": [
        {
          "output_type": "stream",
          "text": [
            "This is a triple-quoted\n",
            "string that spans two lines\n"
          ],
          "name": "stdout"
        }
      ]
    },
    {
      "cell_type": "code",
      "metadata": {
        "id": "3pG5IKqqvcWu",
        "outputId": "95b8ee60-bc8b-4aa4-afac-e275c2026bf0",
        "colab": {
          "base_uri": "https://localhost:8080/",
          "height": 34
        }
      },
      "source": [
        "print (\"The value of number till 2 decimal place(using %) is : \",end=\"\") \n",
        "print ('%.3f' %A)"
      ],
      "execution_count": 30,
      "outputs": [
        {
          "output_type": "stream",
          "text": [
            "The value of number till 2 decimal place(using %) is : 7.000\n"
          ],
          "name": "stdout"
        }
      ]
    },
    {
      "cell_type": "markdown",
      "metadata": {
        "id": "lwlsPPNmviGu"
      },
      "source": [
        "**Solving Problem**\n",
        "Determining the Minimum and Maximum with Built-In Functions min and max"
      ]
    },
    {
      "cell_type": "code",
      "metadata": {
        "id": "pzIg9u7Cvfn1",
        "outputId": "1ad6c932-d864-4c8b-cdac-434e92d7913b",
        "colab": {
          "base_uri": "https://localhost:8080/",
          "height": 67
        }
      },
      "source": [
        "Number1 = int(input('Enter first integer: '))\n",
        "Number2 = int(input('Enter second integer: '))\n",
        "Number3 = int(input('Enter third integer: '))"
      ],
      "execution_count": 31,
      "outputs": [
        {
          "output_type": "stream",
          "text": [
            "Enter first integer: 2\n",
            "Enter second integer: 5\n",
            "Enter third integer: 5\n"
          ],
          "name": "stdout"
        }
      ]
    },
    {
      "cell_type": "code",
      "metadata": {
        "id": "w1hUvW8lvsYz",
        "outputId": "db2fc5e4-7a04-42e3-c6ac-4c4edbbb2b0b",
        "colab": {
          "base_uri": "https://localhost:8080/",
          "height": 34
        }
      },
      "source": [
        "min(Number1,Number2,Number3)"
      ],
      "execution_count": 32,
      "outputs": [
        {
          "output_type": "execute_result",
          "data": {
            "text/plain": [
              "2"
            ]
          },
          "metadata": {
            "tags": []
          },
          "execution_count": 32
        }
      ]
    },
    {
      "cell_type": "code",
      "metadata": {
        "id": "nkm9KI9mvzyP",
        "outputId": "ce3ac3ec-c286-4034-f67d-0c26cce59f7b",
        "colab": {
          "base_uri": "https://localhost:8080/",
          "height": 34
        }
      },
      "source": [
        "max(Number1,Number2,Number3)"
      ],
      "execution_count": 33,
      "outputs": [
        {
          "output_type": "execute_result",
          "data": {
            "text/plain": [
              "5"
            ]
          },
          "metadata": {
            "tags": []
          },
          "execution_count": 33
        }
      ]
    },
    {
      "cell_type": "code",
      "metadata": {
        "id": "ewy-Fv8Lv14Y"
      },
      "source": [
        ""
      ],
      "execution_count": null,
      "outputs": []
    }
  ]
}