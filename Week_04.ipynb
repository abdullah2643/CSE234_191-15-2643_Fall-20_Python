{
  "nbformat": 4,
  "nbformat_minor": 0,
  "metadata": {
    "colab": {
      "name": "Week-04.ipynb",
      "provenance": [],
      "authorship_tag": "ABX9TyOKQSRajXAy3Dj0775t84B2",
      "include_colab_link": true
    },
    "kernelspec": {
      "name": "python3",
      "display_name": "Python 3"
    }
  },
  "cells": [
    {
      "cell_type": "markdown",
      "metadata": {
        "id": "view-in-github",
        "colab_type": "text"
      },
      "source": [
        "<a href=\"https://colab.research.google.com/github/abdullah2643/CSE234_191-15-2643_Fall-20_Python/blob/main/Week_04.ipynb\" target=\"_parent\"><img src=\"https://colab.research.google.com/assets/colab-badge.svg\" alt=\"Open In Colab\"/></a>"
      ]
    },
    {
      "cell_type": "markdown",
      "metadata": {
        "id": "BClZnd1tIVGb"
      },
      "source": [
        "Creating list"
      ]
    },
    {
      "cell_type": "code",
      "metadata": {
        "id": "Kp8KIHkWIWoD",
        "outputId": "76b4055f-8ed2-4ba1-8753-02c7e43b3198",
        "colab": {
          "base_uri": "https://localhost:8080/",
          "height": 67
        }
      },
      "source": [
        "lst0=[4,1,2,3.2,223,\"Mukit\",\"Abdullah\",[1,12,33,44]]\n",
        "print(lst0)\n",
        "lst1=[]\n",
        "print(lst1)\n",
        "lst2=list()\n",
        "print(lst1)"
      ],
      "execution_count": 23,
      "outputs": [
        {
          "output_type": "stream",
          "text": [
            "[4, 1, 2, 3.2, 223, 'Mukit', 'Abdullah', [1, 12, 33, 44]]\n",
            "[]\n",
            "[]\n"
          ],
          "name": "stdout"
        }
      ]
    },
    {
      "cell_type": "markdown",
      "metadata": {
        "id": "rMG9yBz-JFVw"
      },
      "source": [
        "**Iterating list**"
      ]
    },
    {
      "cell_type": "code",
      "metadata": {
        "id": "oBhPqrFzIcW1",
        "outputId": "f0fc924c-7a8b-46e1-b015-1fe5844f8ff9",
        "colab": {
          "base_uri": "https://localhost:8080/",
          "height": 34
        }
      },
      "source": [
        "lst0=[4,1,2,3.2,223,\"Nobin\",\"Rasel\",[1,12,33,44]]\n",
        "for i in lst0[6]:\n",
        "    print(i,end=' ')\n",
        "print('')"
      ],
      "execution_count": 24,
      "outputs": [
        {
          "output_type": "stream",
          "text": [
            "R a s e l \n"
          ],
          "name": "stdout"
        }
      ]
    },
    {
      "cell_type": "code",
      "metadata": {
        "id": "Dhl3FNyMIepE",
        "outputId": "c4e8a918-ac18-4a67-f419-e28a508ca9fd",
        "colab": {
          "base_uri": "https://localhost:8080/",
          "height": 84
        }
      },
      "source": [
        "lst0=[4,1,2,3.2,223,\"Nobin\",\"Rasel\",[1,12,33,44]]\n",
        "print(lst0[-5])\n",
        "print(lst0[-3])\n",
        "print(lst0[7])\n",
        "print(lst0[0])"
      ],
      "execution_count": 25,
      "outputs": [
        {
          "output_type": "stream",
          "text": [
            "3.2\n",
            "Nobin\n",
            "[1, 12, 33, 44]\n",
            "4\n"
          ],
          "name": "stdout"
        }
      ]
    },
    {
      "cell_type": "markdown",
      "metadata": {
        "id": "w76XjaLiJKZI"
      },
      "source": [
        "**List operations**"
      ]
    },
    {
      "cell_type": "code",
      "metadata": {
        "id": "FDQY5jvtIhE4",
        "outputId": "34f99728-a8a1-4b53-db79-b529713cd602",
        "colab": {
          "base_uri": "https://localhost:8080/",
          "height": 168
        }
      },
      "source": [
        "lst0=[4,1,2,4,3.2,223,\"Mukit\",\"Abdullah\",[1,12,33,44]]\n",
        "\n",
        "print(len(lst0))\n",
        "\n",
        "lst0.append([133,232,132,200])\n",
        "print(lst0)\n",
        "\n",
        "lst0.insert(4,\"pandas\")\n",
        "print(lst0)\n",
        "\n",
        "lst0.remove(4)\n",
        "print(lst0)\n",
        "print(lst0.index(\"Abdullah\"))\n",
        "\n",
        "print(lst0.count('pandas'))\n",
        "\n",
        "print(lst0.reverse())\n",
        "\n",
        "lst1=lst0.copy()\n",
        "print(lst1)\n",
        "\n",
        "lst0.clear()\n",
        "print(lst0)"
      ],
      "execution_count": 26,
      "outputs": [
        {
          "output_type": "stream",
          "text": [
            "9\n",
            "[4, 1, 2, 4, 3.2, 223, 'Mukit', 'Abdullah', [1, 12, 33, 44], [133, 232, 132, 200]]\n",
            "[4, 1, 2, 4, 'pandas', 3.2, 223, 'Mukit', 'Abdullah', [1, 12, 33, 44], [133, 232, 132, 200]]\n",
            "[1, 2, 4, 'pandas', 3.2, 223, 'Mukit', 'Abdullah', [1, 12, 33, 44], [133, 232, 132, 200]]\n",
            "7\n",
            "1\n",
            "None\n",
            "[[133, 232, 132, 200], [1, 12, 33, 44], 'Abdullah', 'Mukit', 223, 3.2, 'pandas', 4, 2, 1]\n",
            "[]\n"
          ],
          "name": "stdout"
        }
      ]
    },
    {
      "cell_type": "code",
      "metadata": {
        "id": "ZKQEMS-0I81U",
        "outputId": "6cd1454f-52f1-465c-e9af-b4b1833c60ec",
        "colab": {
          "base_uri": "https://localhost:8080/",
          "height": 84
        }
      },
      "source": [
        "lst0=[4,1,2,3.2,223,\"Mukit\",\"Abdullah\",[1,12,33,44]]\n",
        "\n",
        "print(lst0[0:8])\n",
        "print(lst0[5:])\n",
        "print(lst0[:6])\n",
        "print(lst0[:])"
      ],
      "execution_count": 31,
      "outputs": [
        {
          "output_type": "stream",
          "text": [
            "[4, 1, 2, 3.2, 223, 'Mukit', 'Abdullah', [1, 12, 33, 44]]\n",
            "['Mukit', 'Abdullah', [1, 12, 33, 44]]\n",
            "[4, 1, 2, 3.2, 223, 'Mukit']\n",
            "[4, 1, 2, 3.2, 223, 'Mukit', 'Abdullah', [1, 12, 33, 44]]\n"
          ],
          "name": "stdout"
        }
      ]
    },
    {
      "cell_type": "markdown",
      "metadata": {
        "id": "PzlrxjUMJVyi"
      },
      "source": [
        "**list sorting**"
      ]
    },
    {
      "cell_type": "code",
      "metadata": {
        "id": "pCWcdv-wI_5n",
        "outputId": "93fc9ba3-7fd6-4b6d-b2cc-b8eff6720cd3",
        "colab": {
          "base_uri": "https://localhost:8080/",
          "height": 67
        }
      },
      "source": [
        "lst2=[2,3,4,56,77,323,456,6888,9]\n",
        "\n",
        "lst3=sorted(lst2)\n",
        "print(lst3)\n",
        "print(lst2)\n",
        "lst2.sort()\n",
        "print(lst2)"
      ],
      "execution_count": 28,
      "outputs": [
        {
          "output_type": "stream",
          "text": [
            "[2, 3, 4, 9, 56, 77, 323, 456, 6888]\n",
            "[2, 3, 4, 56, 77, 323, 456, 6888, 9]\n",
            "[2, 3, 4, 9, 56, 77, 323, 456, 6888]\n"
          ],
          "name": "stdout"
        }
      ]
    },
    {
      "cell_type": "markdown",
      "metadata": {
        "id": "YME3b-xgJaGw"
      },
      "source": [
        "**Creating tuple**"
      ]
    },
    {
      "cell_type": "code",
      "metadata": {
        "id": "qBU_MysaJBeN",
        "outputId": "aa852efe-f616-4ee3-a7d3-9137f57e233b",
        "colab": {
          "base_uri": "https://localhost:8080/",
          "height": 67
        }
      },
      "source": [
        "tp0=(4,1,2,3.2,223,\"Abdullah\",\"Mukit\",[1,12,33,44])\n",
        "print(tp0)\n",
        "tp1=()\n",
        "print(tp1)\n",
        "tp2=tuple()\n",
        "print(tp2)"
      ],
      "execution_count": 32,
      "outputs": [
        {
          "output_type": "stream",
          "text": [
            "(4, 1, 2, 3.2, 223, 'Abdullah', 'Mukit', [1, 12, 33, 44])\n",
            "()\n",
            "()\n"
          ],
          "name": "stdout"
        }
      ]
    },
    {
      "cell_type": "markdown",
      "metadata": {
        "id": "nd6Tq64OJiZ2"
      },
      "source": [
        "**Iterating tupleX**"
      ]
    },
    {
      "cell_type": "code",
      "metadata": {
        "id": "DKVY66WlJggR",
        "outputId": "9273b64b-50b7-457d-a7a8-d9df6d6aed16",
        "colab": {
          "base_uri": "https://localhost:8080/",
          "height": 84
        }
      },
      "source": [
        "\n",
        "tp0=(4,1,2,3.2,223,\"Abdullah\",\"Mukit\",[1,12,33,44])\n",
        "print(tp0[-5])\n",
        "print(tp0[-3])\n",
        "print(tp0[3])\n",
        "print(tp0[5])"
      ],
      "execution_count": 33,
      "outputs": [
        {
          "output_type": "stream",
          "text": [
            "3.2\n",
            "Abdullah\n",
            "3.2\n",
            "Abdullah\n"
          ],
          "name": "stdout"
        }
      ]
    },
    {
      "cell_type": "markdown",
      "metadata": {
        "id": "S83LpVLoJx6R"
      },
      "source": [
        "**Unpacking sequences**"
      ]
    },
    {
      "cell_type": "code",
      "metadata": {
        "id": "1tr9nyPCJlT4",
        "outputId": "8e0a66d9-9b23-4840-cdae-9892a111e018",
        "colab": {
          "base_uri": "https://localhost:8080/",
          "height": 84
        }
      },
      "source": [
        "lst=[23,3.4,45,432]\n",
        "a,b,c,d=lst\n",
        "print(a)\n",
        "print(b)\n",
        "print(c)\n",
        "print(d)"
      ],
      "execution_count": 34,
      "outputs": [
        {
          "output_type": "stream",
          "text": [
            "23\n",
            "3.4\n",
            "45\n",
            "432\n"
          ],
          "name": "stdout"
        }
      ]
    },
    {
      "cell_type": "code",
      "metadata": {
        "id": "nDg1dYs8J0Po",
        "outputId": "96656c99-276c-431d-e813-6a042a2e2e68",
        "colab": {
          "base_uri": "https://localhost:8080/",
          "height": 84
        }
      },
      "source": [
        "tp=(23,3.4,45,432)\n",
        "a,b,c,d=tp\n",
        "print(a)\n",
        "print(b)\n",
        "print(c)\n",
        "print(d)"
      ],
      "execution_count": 35,
      "outputs": [
        {
          "output_type": "stream",
          "text": [
            "23\n",
            "3.4\n",
            "45\n",
            "432\n"
          ],
          "name": "stdout"
        }
      ]
    },
    {
      "cell_type": "code",
      "metadata": {
        "id": "StiLXHvQJ1nI"
      },
      "source": [
        ""
      ],
      "execution_count": null,
      "outputs": []
    }
  ]
}