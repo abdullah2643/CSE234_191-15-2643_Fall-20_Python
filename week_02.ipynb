{
  "nbformat": 4,
  "nbformat_minor": 0,
  "metadata": {
    "colab": {
      "name": "week_02.ipynb",
      "provenance": [],
      "authorship_tag": "ABX9TyOiNeZseczOmNCJI0hownW/",
      "include_colab_link": true
    },
    "kernelspec": {
      "name": "python3",
      "display_name": "Python 3"
    }
  },
  "cells": [
    {
      "cell_type": "markdown",
      "metadata": {
        "id": "view-in-github",
        "colab_type": "text"
      },
      "source": [
        "<a href=\"https://colab.research.google.com/github/abdullah2643/CSE234_191-15-2643_Fall-20_Python/blob/main/week_02.ipynb\" target=\"_parent\"><img src=\"https://colab.research.google.com/assets/colab-badge.svg\" alt=\"Open In Colab\"/></a>"
      ]
    },
    {
      "cell_type": "markdown",
      "metadata": {
        "id": "BCxPZeedz1cD"
      },
      "source": [
        "IF statement"
      ]
    },
    {
      "cell_type": "code",
      "metadata": {
        "id": "eYBsQR2nzkyW",
        "outputId": "c7c791a1-45b2-4a6a-d275-5d874cc55c10",
        "colab": {
          "base_uri": "https://localhost:8080/",
          "height": 34
        }
      },
      "source": [
        "grade=40\n",
        "if grade>=40:\n",
        "  print(\"passed\")"
      ],
      "execution_count": 1,
      "outputs": [
        {
          "output_type": "stream",
          "text": [
            "passed\n"
          ],
          "name": "stdout"
        }
      ]
    },
    {
      "cell_type": "markdown",
      "metadata": {
        "id": "CLtwrM1iz7AT"
      },
      "source": [
        "If else statement"
      ]
    },
    {
      "cell_type": "code",
      "metadata": {
        "id": "AMkmERmMz5HW",
        "outputId": "39767a8d-47d1-4ab8-8467-c3a513550e47",
        "colab": {
          "base_uri": "https://localhost:8080/",
          "height": 34
        }
      },
      "source": [
        "grade=40\n",
        "if grade>=40:\n",
        "  print(\"passed\")\n",
        "else:\n",
        "  print(\"fail\")"
      ],
      "execution_count": 2,
      "outputs": [
        {
          "output_type": "stream",
          "text": [
            "passed\n"
          ],
          "name": "stdout"
        }
      ]
    },
    {
      "cell_type": "markdown",
      "metadata": {
        "id": "nt-9UFZK0AdK"
      },
      "source": [
        "Conditional expression"
      ]
    },
    {
      "cell_type": "code",
      "metadata": {
        "id": "9TxBRQ48z8tI"
      },
      "source": [
        "result=('Passed' if grade >= 40 else 'Failed')"
      ],
      "execution_count": 3,
      "outputs": []
    },
    {
      "cell_type": "code",
      "metadata": {
        "id": "m3xJkqw80Cz-",
        "outputId": "99108862-989a-418e-ce87-cec1117ad40b",
        "colab": {
          "base_uri": "https://localhost:8080/",
          "height": 34
        }
      },
      "source": [
        "print(result)"
      ],
      "execution_count": 4,
      "outputs": [
        {
          "output_type": "stream",
          "text": [
            "Passed\n"
          ],
          "name": "stdout"
        }
      ]
    },
    {
      "cell_type": "markdown",
      "metadata": {
        "id": "ft0sGwid0HEz"
      },
      "source": [
        "IF...elif....else statement"
      ]
    },
    {
      "cell_type": "code",
      "metadata": {
        "id": "TwxH6APZ0FP1",
        "outputId": "29db8483-c3a0-4d23-bea6-7b5713ce27ea",
        "colab": {
          "base_uri": "https://localhost:8080/",
          "height": 34
        }
      },
      "source": [
        "grade = 77\n",
        "\n",
        "if grade >= 80:\n",
        "    print('A')\n",
        "elif grade >= 70:\n",
        "    print('B')\n",
        "elif grade >= 60:\n",
        "    print('C')\n",
        "elif grade >= 50:\n",
        "    print('D')\n",
        "else:\n",
        "    print('F')"
      ],
      "execution_count": 5,
      "outputs": [
        {
          "output_type": "stream",
          "text": [
            "B\n"
          ],
          "name": "stdout"
        }
      ]
    },
    {
      "cell_type": "code",
      "metadata": {
        "id": "kby8145d0JHR",
        "outputId": "857293cb-b0e9-4842-a345-f33331dda934",
        "colab": {
          "base_uri": "https://localhost:8080/",
          "height": 34
        }
      },
      "source": [
        "grade = 90\n",
        "\n",
        "if grade >= 80:\n",
        "    print('A+')\n",
        "elif grade >= 70:\n",
        "    print('B+')\n",
        "elif grade >= 60:\n",
        "    print('C+')\n",
        "elif grade >= 50:\n",
        "    print('D+')\n",
        "else:\n",
        "    print('F')"
      ],
      "execution_count": 7,
      "outputs": [
        {
          "output_type": "stream",
          "text": [
            "A+\n"
          ],
          "name": "stdout"
        }
      ]
    },
    {
      "cell_type": "markdown",
      "metadata": {
        "id": "79a0yVnI0UdS"
      },
      "source": [
        "While Statement"
      ]
    },
    {
      "cell_type": "code",
      "metadata": {
        "id": "hJE394is0Ohh",
        "outputId": "047c63f2-1a1d-4489-bfc2-42eb30129507",
        "colab": {
          "base_uri": "https://localhost:8080/",
          "height": 34
        }
      },
      "source": [
        "number=5\n",
        "\n",
        "while (number<18):\n",
        "  print(number, end=\" \")\n",
        "  number+=1"
      ],
      "execution_count": 8,
      "outputs": [
        {
          "output_type": "stream",
          "text": [
            "5 6 7 8 9 10 11 12 13 14 15 16 17 "
          ],
          "name": "stdout"
        }
      ]
    },
    {
      "cell_type": "markdown",
      "metadata": {
        "id": "HUcNRIhZ0YOL"
      },
      "source": [
        "while statement to find the first power of 3 larger than 50:"
      ]
    },
    {
      "cell_type": "code",
      "metadata": {
        "id": "Nzh6ntmH0WbI"
      },
      "source": [
        "product=3\n",
        "\n",
        "while product<=50:\n",
        "  product = product*3"
      ],
      "execution_count": 9,
      "outputs": []
    },
    {
      "cell_type": "code",
      "metadata": {
        "id": "x3ih7E9k0ZpV",
        "outputId": "e5711a19-7101-414b-9d91-df0a04f9d48b",
        "colab": {
          "base_uri": "https://localhost:8080/",
          "height": 34
        }
      },
      "source": [
        "print(product)"
      ],
      "execution_count": 12,
      "outputs": [
        {
          "output_type": "stream",
          "text": [
            "81\n"
          ],
          "name": "stdout"
        }
      ]
    },
    {
      "cell_type": "markdown",
      "metadata": {
        "id": "GauxepYH0mhi"
      },
      "source": [
        "For statement"
      ]
    },
    {
      "cell_type": "code",
      "metadata": {
        "id": "2_sbyji60bTX",
        "outputId": "d6656906-e52e-483e-84a3-4a066d288fa0",
        "colab": {
          "base_uri": "https://localhost:8080/",
          "height": 34
        }
      },
      "source": [
        "for character in \"Mukit\":\n",
        "  print(character, end=\" \")"
      ],
      "execution_count": 13,
      "outputs": [
        {
          "output_type": "stream",
          "text": [
            "M u k i t "
          ],
          "name": "stdout"
        }
      ]
    },
    {
      "cell_type": "code",
      "metadata": {
        "id": "1-A8BJiq0n8Y",
        "outputId": "35221781-20db-4e6b-96df-2d96329f0eef",
        "colab": {
          "base_uri": "https://localhost:8080/",
          "height": 34
        }
      },
      "source": [
        "for counter in range(13):\n",
        "  print(counter, end=\" \")"
      ],
      "execution_count": 14,
      "outputs": [
        {
          "output_type": "stream",
          "text": [
            "0 1 2 3 4 5 6 7 8 9 10 11 12 "
          ],
          "name": "stdout"
        }
      ]
    },
    {
      "cell_type": "code",
      "metadata": {
        "id": "FCBemKD30zat",
        "outputId": "acf53171-2743-48e8-d1b2-8575b6d0d426",
        "colab": {
          "base_uri": "https://localhost:8080/",
          "height": 34
        }
      },
      "source": [
        "total = 0\n",
        "for number in range(1000001):\n",
        "  total = total+number\n",
        "\n",
        "print(total)"
      ],
      "execution_count": 16,
      "outputs": [
        {
          "output_type": "stream",
          "text": [
            "500000500000\n"
          ],
          "name": "stdout"
        }
      ]
    },
    {
      "cell_type": "code",
      "metadata": {
        "id": "li6ez3cz002o",
        "outputId": "3aad312f-1b15-4cf8-f431-3db4ac20423c",
        "colab": {
          "base_uri": "https://localhost:8080/",
          "height": 34
        }
      },
      "source": [
        "for number in range(598,610):\n",
        "  print(number, end=\" \")\n"
      ],
      "execution_count": 17,
      "outputs": [
        {
          "output_type": "stream",
          "text": [
            "598 599 600 601 602 603 604 605 606 607 608 609 "
          ],
          "name": "stdout"
        }
      ]
    },
    {
      "cell_type": "code",
      "metadata": {
        "id": "DjQKz_5Y05p4",
        "outputId": "7e37e9f5-bf98-4b4f-9cfe-a3ef5f46bc51",
        "colab": {
          "base_uri": "https://localhost:8080/",
          "height": 34
        }
      },
      "source": [
        "for number in range(0,15,3):\n",
        "  print(number, end=\" \")"
      ],
      "execution_count": 18,
      "outputs": [
        {
          "output_type": "stream",
          "text": [
            "0 3 6 9 12 "
          ],
          "name": "stdout"
        }
      ]
    },
    {
      "cell_type": "code",
      "metadata": {
        "id": "saeocV0H071u",
        "outputId": "9f54cd75-d617-450c-8552-55d757028811",
        "colab": {
          "base_uri": "https://localhost:8080/",
          "height": 134
        }
      },
      "source": [
        "for i in range(1,8):\n",
        "  print(number,\"X\",i,\"=\",number*i)"
      ],
      "execution_count": 19,
      "outputs": [
        {
          "output_type": "stream",
          "text": [
            "12 X 1 = 12\n",
            "12 X 2 = 24\n",
            "12 X 3 = 36\n",
            "12 X 4 = 48\n",
            "12 X 5 = 60\n",
            "12 X 6 = 72\n",
            "12 X 7 = 84\n"
          ],
          "name": "stdout"
        }
      ]
    },
    {
      "cell_type": "code",
      "metadata": {
        "id": "lCF-RX-D09s9",
        "outputId": "ddfa0c40-7d21-4c85-88a1-beee1c71fbc6",
        "colab": {
          "base_uri": "https://localhost:8080/",
          "height": 218
        }
      },
      "source": [
        "for left in range(12):\n",
        "    for right in range(left,12):\n",
        "        print(\"[\"+str(left)+\"|\"+str(right)+\"]\", end =\" \")\n",
        "    print()"
      ],
      "execution_count": 20,
      "outputs": [
        {
          "output_type": "stream",
          "text": [
            "[0|0] [0|1] [0|2] [0|3] [0|4] [0|5] [0|6] [0|7] [0|8] [0|9] [0|10] [0|11] \n",
            "[1|1] [1|2] [1|3] [1|4] [1|5] [1|6] [1|7] [1|8] [1|9] [1|10] [1|11] \n",
            "[2|2] [2|3] [2|4] [2|5] [2|6] [2|7] [2|8] [2|9] [2|10] [2|11] \n",
            "[3|3] [3|4] [3|5] [3|6] [3|7] [3|8] [3|9] [3|10] [3|11] \n",
            "[4|4] [4|5] [4|6] [4|7] [4|8] [4|9] [4|10] [4|11] \n",
            "[5|5] [5|6] [5|7] [5|8] [5|9] [5|10] [5|11] \n",
            "[6|6] [6|7] [6|8] [6|9] [6|10] [6|11] \n",
            "[7|7] [7|8] [7|9] [7|10] [7|11] \n",
            "[8|8] [8|9] [8|10] [8|11] \n",
            "[9|9] [9|10] [9|11] \n",
            "[10|10] [10|11] \n",
            "[11|11] \n"
          ],
          "name": "stdout"
        }
      ]
    },
    {
      "cell_type": "code",
      "metadata": {
        "id": "jPuD4_K21AZ8",
        "outputId": "4872d01b-9bfb-4be2-e730-b30564e2a774",
        "colab": {
          "base_uri": "https://localhost:8080/",
          "height": 34
        }
      },
      "source": [
        "for number in range(100):\n",
        "  if  number==29:\n",
        "    break\n",
        "  print(number, end=\" \")"
      ],
      "execution_count": 21,
      "outputs": [
        {
          "output_type": "stream",
          "text": [
            "0 1 2 3 4 5 6 7 8 9 10 11 12 13 14 15 16 17 18 19 20 21 22 23 24 25 26 27 28 "
          ],
          "name": "stdout"
        }
      ]
    },
    {
      "cell_type": "markdown",
      "metadata": {
        "id": "GmvXuc8g1Fgu"
      },
      "source": [
        "Continue statement"
      ]
    },
    {
      "cell_type": "markdown",
      "metadata": {
        "id": "YpnqF8O71U77"
      },
      "source": [
        "Extremely Basic URI"
      ]
    },
    {
      "cell_type": "code",
      "metadata": {
        "id": "TYqWD_yW1QvQ",
        "outputId": "e3f58f44-76d7-4d98-e89b-2742f81f0d3b",
        "colab": {
          "base_uri": "https://localhost:8080/",
          "height": 67
        }
      },
      "source": [
        "A = int(input())\n",
        "B = int(input())\n",
        "x = A + B\n",
        "print(\"X = %i\"% x)"
      ],
      "execution_count": 24,
      "outputs": [
        {
          "output_type": "stream",
          "text": [
            "1\n",
            "2\n",
            "X = 3\n"
          ],
          "name": "stdout"
        }
      ]
    },
    {
      "cell_type": "code",
      "metadata": {
        "id": "seaSr2lO1Xvm",
        "outputId": "14e86876-4c7f-4eb5-d849-413e0c9bdcb6",
        "colab": {
          "base_uri": "https://localhost:8080/",
          "height": 67
        }
      },
      "source": [
        "A = int(input())\n",
        "B = int(input())\n",
        "x = A + B\n",
        "print(\"X = %i\"% x)"
      ],
      "execution_count": 25,
      "outputs": [
        {
          "output_type": "stream",
          "text": [
            "55\n",
            "63\n",
            "X = 118\n"
          ],
          "name": "stdout"
        }
      ]
    },
    {
      "cell_type": "code",
      "metadata": {
        "id": "LRY4rTtw1eAh",
        "outputId": "695a3631-9486-4bc5-ede9-c0a14d13c8ab",
        "colab": {
          "base_uri": "https://localhost:8080/",
          "height": 67
        }
      },
      "source": [
        "A = int(input())\n",
        "B = int(input())\n",
        "x = A + B\n",
        "print(x)"
      ],
      "execution_count": 27,
      "outputs": [
        {
          "output_type": "stream",
          "text": [
            "5566\n",
            "655\n",
            "6221\n"
          ],
          "name": "stdout"
        }
      ]
    },
    {
      "cell_type": "markdown",
      "metadata": {
        "id": "vh-roHqj1-UU"
      },
      "source": [
        "Area of a Circle URI"
      ]
    },
    {
      "cell_type": "code",
      "metadata": {
        "id": "4YlqqQQb1n6l",
        "outputId": "3c2e9bd9-6ce4-49d7-cad2-39f33f76b349",
        "colab": {
          "base_uri": "https://localhost:8080/",
          "height": 50
        }
      },
      "source": [
        "r = float(input())\n",
        "pi = 3.14159\n",
        "a = pi * (pow(r,2))\n",
        "print(\"A=%.4f\"% a)"
      ],
      "execution_count": 28,
      "outputs": [
        {
          "output_type": "stream",
          "text": [
            "123\n",
            "A=47529.1151\n"
          ],
          "name": "stdout"
        }
      ]
    },
    {
      "cell_type": "markdown",
      "metadata": {
        "id": "YZvmkowW2GgQ"
      },
      "source": [
        "Age in Days"
      ]
    },
    {
      "cell_type": "code",
      "metadata": {
        "id": "UkgzGqWU2B72",
        "outputId": "853147d2-1023-415b-aae6-226fc79cb1ff",
        "colab": {
          "base_uri": "https://localhost:8080/",
          "height": 84
        }
      },
      "source": [
        "A = int(input())\n",
        "B = int(A/365)\n",
        "C = int(A%365)\n",
        "D = int(A/30)\n",
        "E = A%30\n",
        "print(\"%d ano(s)\"%B)\n",
        "print(\"%d mes(es)\"%D)\n",
        "print(\"%d dia(s)\"%E)"
      ],
      "execution_count": 29,
      "outputs": [
        {
          "output_type": "stream",
          "text": [
            "99\n",
            "0 ano(s)\n",
            "3 mes(es)\n",
            "9 dia(s)\n"
          ],
          "name": "stdout"
        }
      ]
    },
    {
      "cell_type": "code",
      "metadata": {
        "id": "XEmzXRHy2JVj"
      },
      "source": [
        ""
      ],
      "execution_count": null,
      "outputs": []
    }
  ]
}